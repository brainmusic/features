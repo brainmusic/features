{
  "nbformat": 4,
  "nbformat_minor": 0,
  "metadata": {
    "colab": {
      "name": "Preprocessing_Data_Cleaning.ipynb",
      "provenance": [],
      "collapsed_sections": []
    },
    "kernelspec": {
      "name": "python3",
      "display_name": "Python 3"
    }
  },
  "cells": [
    {
      "cell_type": "markdown",
      "metadata": {
        "id": "mvjUbUIsQDww",
        "colab_type": "text"
      },
      "source": [
        "# Preprocessing: Features Extraction for Data Cleaning\n",
        "\n",
        "## 1. Set-up\n"
      ]
    },
    {
      "cell_type": "code",
      "metadata": {
        "id": "js4b6LLFfP9B",
        "colab_type": "code",
        "colab": {}
      },
      "source": [
        "# connect Google Colab with Drive\n",
        "from google.colab import drive\n",
        "drive.mount('/content/drive')"
      ],
      "execution_count": 0,
      "outputs": []
    },
    {
      "cell_type": "code",
      "metadata": {
        "id": "DHGnwn35fpMA",
        "colab_type": "code",
        "colab": {}
      },
      "source": [
        "# instal music21 library \n",
        "!pip install music21"
      ],
      "execution_count": 0,
      "outputs": []
    },
    {
      "cell_type": "code",
      "metadata": {
        "id": "XAadFESOfYCs",
        "colab_type": "code",
        "colab": {}
      },
      "source": [
        "# import libraries\n",
        "from music21 import *\n",
        "import pandas as pd\n",
        "import numpy as np\n",
        "import random\n",
        "import shutil\n",
        "import glob\n",
        "import os"
      ],
      "execution_count": 0,
      "outputs": []
    },
    {
      "cell_type": "markdown",
      "metadata": {
        "id": "NjGRLpN9Yyzl",
        "colab_type": "text"
      },
      "source": [
        "## 2. Extracting Instruments for Data Cleaning\n",
        "\n",
        "First of all we need to clean the data as we are not 100% sure that all the MIDIs collected are only piano."
      ]
    },
    {
      "cell_type": "code",
      "metadata": {
        "id": "4uJu3yXZfYF7",
        "colab_type": "code",
        "colab": {}
      },
      "source": [
        "# function to open a midi file from path\n",
        "def open_midi(midi_path):\n",
        "    mf = midi.MidiFile()\n",
        "    mf.open(midi_path)\n",
        "    mf.read()\n",
        "    mf.close()\n",
        "    return midi.translate.midiFileToStream(mf)"
      ],
      "execution_count": 0,
      "outputs": []
    },
    {
      "cell_type": "code",
      "metadata": {
        "id": "Z6uzPkMzfYIx",
        "colab_type": "code",
        "colab": {}
      },
      "source": [
        "midi_folder_path = \"../content/drive/My Drive/brain_music/data/audios/midi\"\n",
        "midis_list = os.listdir(midi_folder_path)\n",
        "print(len(midis_list),'midi files in our database')"
      ],
      "execution_count": 0,
      "outputs": []
    },
    {
      "cell_type": "code",
      "metadata": {
        "id": "js9YTn2Vf-Oh",
        "colab_type": "code",
        "colab": {}
      },
      "source": [
        "# function to concat path to build loop for all midi in the folder\n",
        "def concat_path(path, child):\n",
        "    return path + \"/\" + child"
      ],
      "execution_count": 0,
      "outputs": []
    },
    {
      "cell_type": "code",
      "metadata": {
        "id": "e2np3BrdfYOI",
        "colab_type": "code",
        "colab": {}
      },
      "source": [
        "# select a random midi in the general folder\n",
        "midi_file = random.choice(midis_list)\n",
        "# get its path\n",
        "midi_path = concat_path(midi_folder_path, midi_file)\n",
        "# opening midi\n",
        "base_midi = open_midi(midi_path)\n",
        "base_midi"
      ],
      "execution_count": 0,
      "outputs": []
    },
    {
      "cell_type": "code",
      "metadata": {
        "id": "k93xu9ghfYXY",
        "colab_type": "code",
        "colab": {}
      },
      "source": [
        "# function to get all the instruments found in each midi\n",
        "def list_instruments(midi):\n",
        "  list_instrus = []\n",
        "  partStream = midi.parts.stream()\n",
        "  for p in partStream:\n",
        "    aux = p\n",
        "    list_instrus.append(p.partName)\n",
        "  return list(set(list_instrus))"
      ],
      "execution_count": 0,
      "outputs": []
    },
    {
      "cell_type": "code",
      "metadata": {
        "id": "4kbuRb3abjoU",
        "colab_type": "code",
        "colab": {}
      },
      "source": [
        "# test - check if only piano or other instrument(s)\n",
        "instrus = list_instruments(base_midi)\n",
        "print(\"List of instruments found in the MIDI file:{}\".format(instrus))"
      ],
      "execution_count": 0,
      "outputs": []
    },
    {
      "cell_type": "code",
      "metadata": {
        "id": "CigGV7xpfYmK",
        "colab_type": "code",
        "colab": {}
      },
      "source": [
        "# function to return the list of instruments found in MIDI or raise an exception if non-identified\n",
        "def extract_instrus(midi_path):\n",
        "  try:\n",
        "    return list_instruments(open_midi(midi_path))\n",
        "  except:\n",
        "    return 'issue'"
      ],
      "execution_count": 0,
      "outputs": []
    },
    {
      "cell_type": "code",
      "metadata": {
        "id": "pEwFBZ4XfYqi",
        "colab_type": "code",
        "colab": {}
      },
      "source": [
        "# to remove duplicated or None values of the list\n",
        "def remove_none_from_list(the_list, val):\n",
        "    return [value for value in the_list if value != val]"
      ],
      "execution_count": 0,
      "outputs": []
    },
    {
      "cell_type": "code",
      "metadata": {
        "id": "0wov2egXfYVU",
        "colab_type": "code",
        "colab": {}
      },
      "source": [
        "# function to assign a unique label to instruments: piano_only, other_single_instru or too_many_instrus\n",
        "def clean_instrus(instrus_list):\n",
        "  if (instrus_list == None) | (instrus_list == 'issue') | (instrus_list == [] ):\n",
        "    return 'other'\n",
        "  else:\n",
        "    clean_list = remove_none_from_list(instrus_list, None)\n",
        "    clean_list = [value.strip().lower() for value in clean_list]\n",
        "    print(clean_list)\n",
        "    if len(clean_list) == 1:\n",
        "      if clean_list[0] == 'piano':\n",
        "        return 'only_piano'\n",
        "      elif clean_list[0] != 'piano':\n",
        "        return 'other_single_instru'\n",
        "    elif len(clean_list) > 1:\n",
        "      return 'too_many_instrus'\n",
        "    else:\n",
        "      return 'other'"
      ],
      "execution_count": 0,
      "outputs": []
    },
    {
      "cell_type": "markdown",
      "metadata": {
        "id": "2nw8EsgLgY7C",
        "colab_type": "text"
      },
      "source": [
        "## 3. Extracting main key and mode as Features\n",
        "\n",
        "Once we know which MIDIs are piano only, another single intruments or more than one instrument, we can extract the main key as Feature.\n",
        "\n",
        "As we need to classify music with emotions, we can directly obtain the music mode (comparable metric) from the main key and organize all the MIDIs files into subfolders minor VS major into each instrument classes folders."
      ]
    },
    {
      "cell_type": "code",
      "metadata": {
        "id": "eSCZc-FofYab",
        "colab_type": "code",
        "colab": {}
      },
      "source": [
        "# test to extract main key of MIDI \n",
        "music_analysis = base_midi.analyze('key')\n",
        "print(\"Expected music key: {0}\".format(music_analysis))"
      ],
      "execution_count": 0,
      "outputs": []
    },
    {
      "cell_type": "code",
      "metadata": {
        "id": "srE9BbN9fYhF",
        "colab_type": "code",
        "colab": {}
      },
      "source": [
        "# function to return the main key of MIDI or raise an exception if non enough clear\n",
        "def analyze_key(midi_path):\n",
        "  try:\n",
        "    return \"{0}\".format(open_midi(midi_path).analyze('key'))\n",
        "  except:\n",
        "    return 'issue'"
      ],
      "execution_count": 0,
      "outputs": []
    },
    {
      "cell_type": "code",
      "metadata": {
        "id": "8r1YW1wtg01a",
        "colab_type": "code",
        "colab": {}
      },
      "source": [
        "# function to extract mode from main key: minor, major or others\n",
        "def extract_mode(key_value):\n",
        "  if 'major' in key_value:\n",
        "    return 'major'\n",
        "  elif 'minor' in key_value:\n",
        "    return 'minor'\n",
        "  else:\n",
        "    return 'others'"
      ],
      "execution_count": 0,
      "outputs": []
    },
    {
      "cell_type": "code",
      "metadata": {
        "id": "prlz0EA3g05U",
        "colab_type": "code",
        "colab": {}
      },
      "source": [
        "# defining all the path to organize the directory and classify MIDIs into folders and subfolders\n",
        "# first separating instrument label and then by mode\n",
        "source_path = \"../content/drive/My Drive/brain_music/data/audios/midi/\"\n",
        "piano_path = \"../content/drive/My Drive/brain_music/data/audios/midi/piano_only/\"\n",
        "minor_path = \"../content/drive/My Drive/brain_music/data/audios/midi/piano_only/minor/\"\n",
        "major_path = \"../content/drive/My Drive/brain_music/data/audios/midi/piano_only/major/\"\n",
        "others_path = \"../content/drive/My Drive/brain_music/data/audios/midi/others/\"\n",
        "others_single_path = \"../content/drive/My Drive/brain_music/data/audios/midi/others/single/\"\n",
        "others_more_path = \"../content/drive/My Drive/brain_music/data/audios/midi/others/more/\""
      ],
      "execution_count": 0,
      "outputs": []
    },
    {
      "cell_type": "code",
      "metadata": {
        "id": "yHU6A5F8g1A2",
        "colab_type": "code",
        "colab": {}
      },
      "source": [
        "# extracting instruments and mode to organize MIDIs accross the directory into folders and subfolders\n",
        "for midi_file in os.listdir(others_path):\n",
        "  midi_path = concat_path(others_path, midi_file)\n",
        "  final_instrus = clean_instrus(extract_instrus(midi_path))\n",
        "  mode = extract_mode(analyze_key(midi_path))\n",
        "  if final_instrus == 'only_piano':\n",
        "    if mode == 'major':\n",
        "      shutil.copy(midi_path, major_path)\n",
        "    elif mode == 'minor':\n",
        "      shutil.copy(midi_path, minor_path)\n",
        "    else:\n",
        "      shutil.copy(midi_path, piano_path)\n",
        "  elif mode != 'others':\n",
        "    if final_instrus == 'other_single_instru':\n",
        "      shutil.copy(midi_path, '{}{}/'.format(others_single_path, mode)) \n",
        "    elif final_instrus == 'too_many_instrus':\n",
        "      shutil.copy(midi_path, '{}{}/'.format(others_more_path, mode))\n",
        "    elif final_instrus == 'other':\n",
        "      shutil.copy(midi_path, '{}{}/'.format(others_nan_path, mode))\n",
        "  elif mode == 'others':\n",
        "    if final_instrus == 'other_single_instru':\n",
        "      shutil.copy(midi_path, others_single_path) \n",
        "    elif final_instrus == 'too_many_instrus':\n",
        "      shutil.copy(midi_path, others_more_path)\n",
        "    elif final_instrus == 'other':\n",
        "      shutil.copy(midi_path, others_nan_path)"
      ],
      "execution_count": 0,
      "outputs": []
    }
  ]
}